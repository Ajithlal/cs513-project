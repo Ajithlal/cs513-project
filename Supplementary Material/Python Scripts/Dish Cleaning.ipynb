{
 "cells": [
  {
   "cell_type": "markdown",
   "id": "50a0a49e",
   "metadata": {},
   "source": [
    "# Imports"
   ]
  },
  {
   "cell_type": "code",
   "execution_count": 24,
   "id": "4c565cd8",
   "metadata": {},
   "outputs": [],
   "source": [
    "import sqlite3, csv\n",
    "import pandas as pd\n",
    "import re\n",
    "from sklearn.feature_extraction.text import TfidfVectorizer\n",
    "from sklearn.cluster import KMeans"
   ]
  },
  {
   "cell_type": "markdown",
   "id": "8ad982ea",
   "metadata": {},
   "source": [
    "# Helper Functions"
   ]
  },
  {
   "cell_type": "code",
   "execution_count": null,
   "id": "7ec7eef5",
   "metadata": {},
   "outputs": [],
   "source": [
    "# Read the CSV file as a database\n",
    "def read_csvs_as_db(csv_files):\n",
    "    conn = sqlite3.connect(':memory:')\n",
    "    cursor = conn.cursor()\n",
    "    for csv_file in csv_files:\n",
    "        table_name = csv_file.split('/')[-1].split('.')[0]\n",
    "        print(f'Processing {csv_file} into table {table_name}')\n",
    "        with open(csv_file, 'r', encoding='utf-8') as f:\n",
    "            reader = csv.reader(f)\n",
    "            headers = next(reader)\n",
    "            # Add type affinity for better numeric handling\n",
    "            columns = ', '.join([f'\"{h}\"' for h in headers])\n",
    "            cursor.execute(f'CREATE TABLE IF NOT EXISTS {table_name} ({columns})')\n",
    "            for row in reader:\n",
    "                cursor.execute(f'INSERT INTO {table_name} VALUES ({\", \".join([\"?\"] * len(row))})', row)\n",
    "    conn.commit()\n",
    "    return conn\n",
    "\n",
    "# Normalize the dish names\n",
    "def normalize_dish_names(csv_file):\n",
    "    print(f'Normalizing dish names in {csv_file}')\n",
    "    df = pd.read_csv(csv_file)\n",
    "    # Only keep rows with a non-empty 'name'\n",
    "    df = df[df['name'].notna()]\n",
    "    # Apply normalization using pandas string methods and regex\n",
    "    df['name'] = (\n",
    "        df['name']\n",
    "        .str.lower() # Convert to lowercase\n",
    "        .str.replace(r'[\"“”‘’]+', '', regex=True) # Remove quotes\n",
    "        .str.replace(r'^[^a-zA-Z0-9]+', '', regex=True) # Remove leading non-alphanumeric characters\n",
    "        .str.replace(r'\\s+', ' ', regex=True) # Replace multiple spaces with a single space\n",
    "        .str.strip() # Strip leading/trailing spaces\n",
    "    )\n",
    "    # Remove rows where 'name' is empty or 'nan'\n",
    "    df = df[(df['name'] != '') & (df['name'] != 'nan')]\n",
    "    # Save to new CSV\n",
    "    df.to_csv(f'Normalized_{csv_file}', index=False)"
   ]
  },
  {
   "cell_type": "markdown",
   "id": "724db656",
   "metadata": {},
   "source": [
    "# Run Cleaning Functions"
   ]
  },
  {
   "cell_type": "code",
   "execution_count": 26,
   "id": "226ed877",
   "metadata": {},
   "outputs": [
    {
     "name": "stdout",
     "output_type": "stream",
     "text": [
      "Normalizing dish names in Dish.csv\n"
     ]
    }
   ],
   "source": [
    "normalize_dish_names('Dish.csv')"
   ]
  },
  {
   "cell_type": "markdown",
   "id": "70a8fad0",
   "metadata": {},
   "source": [
    "# Using SKLearn for Clustering"
   ]
  },
  {
   "cell_type": "code",
   "execution_count": null,
   "id": "85797564",
   "metadata": {},
   "outputs": [],
   "source": [
    "# Step 1: Load cleaned CSV\n",
    "df = pd.read_csv('Normalized_Dish.csv')\n",
    "\n",
    "# Step 2: Drop rows with empty or null 'name'\n",
    "df_clean = df[df['name'].notna() & (df['name'].str.strip() != \"\")].copy()\n",
    "\n",
    "# Step 3: Vectorize with character n-grams\n",
    "vectorizer = TfidfVectorizer(analyzer='char_wb', ngram_range=(2, 4))\n",
    "X = vectorizer.fit_transform(df_clean['name'])\n",
    "\n",
    "# Step 4: Apply KMeans\n",
    "k = int(len(df_clean) // 4)\n",
    "kmeans = KMeans(n_clusters=k, random_state=42, n_init=10)\n",
    "df_clean['name_cluster'] = kmeans.fit_predict(X)\n",
    "\n",
    "# Step 5: Merge back with original DataFrame\n",
    "df = df.merge(df_clean[['name', 'name_cluster']], on='name', how='left')\n",
    "\n",
    "# Step 6: Save to CSV\n",
    "df.to_csv(\"Clustered_Dish.csv\", index=False)\n"
   ]
  },
  {
   "cell_type": "code",
   "execution_count": 28,
   "id": "d7c34335",
   "metadata": {},
   "outputs": [],
   "source": [
    "# Drop Description Column\n",
    "df = df.drop(columns=['description'], errors='ignore')\n",
    "# Save the cleaned DataFrame to a new CSV\n",
    "df.to_csv(\"Cleaned_Dish.csv\", index=False)"
   ]
  },
  {
   "cell_type": "markdown",
   "id": "3c7f4ec6",
   "metadata": {},
   "source": [
    "# Clustering We Wanted to Run (Took To Long)\n",
    "### Stopped after 6hrs"
   ]
  },
  {
   "cell_type": "code",
   "execution_count": null,
   "id": "8cadfbde",
   "metadata": {},
   "outputs": [],
   "source": [
    "import pandas as pd\n",
    "from rapidfuzz import fuzz, process\n",
    "from concurrent.futures import ThreadPoolExecutor, as_completed\n",
    "\n",
    "# Load your cleaned CSV\n",
    "df = pd.read_csv('Normalized_Dish.csv')  # Adjust path as needed\n",
    "names = df['name'].dropna().unique()\n",
    "\n",
    "# Parameters\n",
    "SIMILARITY_THRESHOLD = 90  # Adjust based on how strict you want matching\n",
    "MAX_WORKERS = 16  # Use as many threads as your CPU can handle\n",
    "\n",
    "# Shared results\n",
    "visited = set()\n",
    "clusters = []\n",
    "\n",
    "def find_matches(name):\n",
    "    \"\"\"Return cluster of names similar to the given name.\"\"\"\n",
    "    if name in visited:\n",
    "        return []\n",
    "    matches = process.extract(\n",
    "        name, names, scorer=fuzz.token_sort_ratio, score_cutoff=SIMILARITY_THRESHOLD\n",
    "    )\n",
    "    cluster = [match[0] for match in matches]\n",
    "    return cluster\n",
    "\n",
    "# Step 1: Build clusters in parallel\n",
    "print(f\"Clustering {len(names)} unique names with {MAX_WORKERS} threads...\")\n",
    "with ThreadPoolExecutor(max_workers=MAX_WORKERS) as executor:\n",
    "    futures = {executor.submit(find_matches, name): name for name in names}\n",
    "\n",
    "    for future in as_completed(futures):\n",
    "        cluster = future.result()\n",
    "        if not cluster:\n",
    "            continue\n",
    "        # Only process cluster if none of them have already been visited\n",
    "        if not any(name in visited for name in cluster):\n",
    "            clusters.append(cluster)\n",
    "            for name in cluster:\n",
    "                visited.add(name)\n",
    "\n",
    "print(f\"Identified {len(clusters)} clusters\")\n",
    "\n",
    "# Step 2: Build canonical mapping\n",
    "name_to_canonical = {}\n",
    "for cluster in clusters:\n",
    "    canonical = min(cluster, key=len)\n",
    "    for name in cluster:\n",
    "        name_to_canonical[name] = canonical\n",
    "\n",
    "# Step 3: Apply mapping\n",
    "df['normalized_name'] = df['name'].map(name_to_canonical).fillna(df['name'])\n",
    "\n",
    "# Step 4: Save result\n",
    "df.to_csv('Fuzzy_Cleaned_Dish.csv', index=False)\n",
    "print(\"✅ Saved clustered version to Fuzzy_Cleaned_Dish.csv\")"
   ]
  }
 ],
 "metadata": {
  "kernelspec": {
   "display_name": "Python 3",
   "language": "python",
   "name": "python3"
  },
  "language_info": {
   "codemirror_mode": {
    "name": "ipython",
    "version": 3
   },
   "file_extension": ".py",
   "mimetype": "text/x-python",
   "name": "python",
   "nbconvert_exporter": "python",
   "pygments_lexer": "ipython3",
   "version": "3.12.3"
  }
 },
 "nbformat": 4,
 "nbformat_minor": 5
}
